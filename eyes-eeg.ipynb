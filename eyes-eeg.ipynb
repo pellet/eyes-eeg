{
 "cells": [
  {
   "cell_type": "code",
   "execution_count": 10,
   "metadata": {},
   "outputs": [
    {
     "name": "stdout",
     "output_type": "stream",
     "text": [
      "Note: you may need to restart the kernel to use updated packages.\n"
     ]
    }
   ],
   "source": [
    "%pip install openneuro-py mne mne-bids -Uqq"
   ]
  },
  {
   "cell_type": "code",
   "execution_count": 11,
   "metadata": {},
   "outputs": [],
   "source": [
    "import os\n",
    "import os.path as op\n",
    "import openneuro\n",
    "\n",
    "from mne.datasets import sample\n",
    "from mne_bids import BIDSPath, read_raw_bids, print_dir_tree, make_report"
   ]
  },
  {
   "cell_type": "code",
   "execution_count": 19,
   "metadata": {},
   "outputs": [
    {
     "name": "stdout",
     "output_type": "stream",
     "text": [
      "\n",
      "👋 Hello! This is openneuro-py 2022.1.0. Great to see you! 🤗\n",
      "\n",
      "   👉 Please report problems 🤯 and bugs 🪲 at\n",
      "      https://github.com/hoechenberger/openneuro-py/issues\n",
      "\n",
      "🌍 Preparing to download ds003685 …\n",
      "👉 Retrieving up to 40 files (5 concurrent downloads).\n",
      "✅ Finished downloading ds003685.\n",
      "\n",
      "🧠 Please enjoy your brains.\n",
      "\n"
     ]
    },
    {
     "data": {
      "application/vnd.jupyter.widget-view+json": {
       "model_id": "84c7602a041b43f7a7de95b502875a3c",
       "version_major": 2,
       "version_minor": 0
      },
      "text/plain": [
       "Re-downloading sub-01_ses-session1_task-eyesclosed_run-1_channels.tsv: file size mismatch.: 0.00B [00:00, ?B/s…"
      ]
     },
     "metadata": {},
     "output_type": "display_data"
    },
    {
     "data": {
      "application/vnd.jupyter.widget-view+json": {
       "model_id": "a28e64233e5a41f2a511ae1772e3514b",
       "version_major": 2,
       "version_minor": 0
      },
      "text/plain": [
       "Re-downloading CHANGES: file size mismatch.: 0.00B [00:00, ?B/s]"
      ]
     },
     "metadata": {},
     "output_type": "display_data"
    },
    {
     "data": {
      "application/vnd.jupyter.widget-view+json": {
       "model_id": "68ce913b34764d3a9abdce322323faa1",
       "version_major": 2,
       "version_minor": 0
      },
      "text/plain": [
       "Re-downloading participants.tsv: file size mismatch.: 0.00B [00:00, ?B/s]"
      ]
     },
     "metadata": {},
     "output_type": "display_data"
    },
    {
     "data": {
      "application/vnd.jupyter.widget-view+json": {
       "model_id": "fd79a92162c74e0e98e452699d53c03a",
       "version_major": 2,
       "version_minor": 0
      },
      "text/plain": [
       "Re-downloading dataset_description.json: file size mismatch.: 0.00B [00:00, ?B/s]"
      ]
     },
     "metadata": {},
     "output_type": "display_data"
    },
    {
     "data": {
      "application/vnd.jupyter.widget-view+json": {
       "model_id": "253e88eb361d42e090d1559a11d11e87",
       "version_major": 2,
       "version_minor": 0
      },
      "text/plain": [
       "Skipping README: already downloaded.: 100%|##########| 891/891 [00:00<?, ?B/s]"
      ]
     },
     "metadata": {},
     "output_type": "display_data"
    },
    {
     "data": {
      "application/vnd.jupyter.widget-view+json": {
       "model_id": "3d75b1095ac345b5856e8d5a079a9ea5",
       "version_major": 2,
       "version_minor": 0
      },
      "text/plain": [
       "Re-downloading sub-01_ses-session2_task-eyesclosed_run-1_eeg.json: file size mismatch.: 0.00B [00:00, ?B/s]"
      ]
     },
     "metadata": {},
     "output_type": "display_data"
    },
    {
     "data": {
      "application/vnd.jupyter.widget-view+json": {
       "model_id": "d84a3ac99c404ba08fac7dfd6e0319a3",
       "version_major": 2,
       "version_minor": 0
      },
      "text/plain": [
       "Re-downloading sub-01_ses-session2_task-eyesclosed_run-1_channels.tsv: file size mismatch.: 0.00B [00:00, ?B/s…"
      ]
     },
     "metadata": {},
     "output_type": "display_data"
    },
    {
     "data": {
      "application/vnd.jupyter.widget-view+json": {
       "model_id": "8c8dcaa790544af5bb9794cd387dcd9a",
       "version_major": 2,
       "version_minor": 0
      },
      "text/plain": [
       "Re-downloading sub-01_ses-session2_task-eyesclosed_run-1_events.tsv: file size mismatch.: 0.00B [00:00, ?B/s]"
      ]
     },
     "metadata": {},
     "output_type": "display_data"
    },
    {
     "data": {
      "application/vnd.jupyter.widget-view+json": {
       "model_id": "5d9f6fc9923d4483a0dafdca9155ec5e",
       "version_major": 2,
       "version_minor": 0
      },
      "text/plain": [
       "Re-downloading sub-01_ses-session3_task-eyesclosed_run-1_channels.tsv: file size mismatch.: 0.00B [00:00, ?B/s…"
      ]
     },
     "metadata": {},
     "output_type": "display_data"
    },
    {
     "data": {
      "application/vnd.jupyter.widget-view+json": {
       "model_id": "91c714cfe7ac48d09bc5913d64f3e8b4",
       "version_major": 2,
       "version_minor": 0
      },
      "text/plain": [
       "Skipping sub-01_ses-session1_task-eyesopen_run-2_events.tsv: already downloaded.: 100%|##########| 6.05k/6.05k…"
      ]
     },
     "metadata": {},
     "output_type": "display_data"
    },
    {
     "data": {
      "application/vnd.jupyter.widget-view+json": {
       "model_id": "71ee26832d964d98bd6149d0a5e3515a",
       "version_major": 2,
       "version_minor": 0
      },
      "text/plain": [
       "Re-downloading sub-01_ses-session3_task-eyesopen_run-2_channels.tsv: file size mismatch.: 0.00B [00:00, ?B/s]"
      ]
     },
     "metadata": {},
     "output_type": "display_data"
    },
    {
     "data": {
      "application/vnd.jupyter.widget-view+json": {
       "model_id": "150170a26b6a413cb0250d72c6e150dc",
       "version_major": 2,
       "version_minor": 0
      },
      "text/plain": [
       "Re-downloading sub-01_ses-session3_task-eyesclosed_run-1_events.tsv: file size mismatch.: 0.00B [00:00, ?B/s]"
      ]
     },
     "metadata": {},
     "output_type": "display_data"
    },
    {
     "data": {
      "application/vnd.jupyter.widget-view+json": {
       "model_id": "25580bdbf41a4ecfb0708efb59c95303",
       "version_major": 2,
       "version_minor": 0
      },
      "text/plain": [
       "Re-downloading sub-01_ses-session3_task-eyesclosed_run-1_eeg.json: file size mismatch.: 0.00B [00:00, ?B/s]"
      ]
     },
     "metadata": {},
     "output_type": "display_data"
    },
    {
     "data": {
      "application/vnd.jupyter.widget-view+json": {
       "model_id": "c05954d8ab714429ae312ac71731c31e",
       "version_major": 2,
       "version_minor": 0
      },
      "text/plain": [
       "Re-downloading sub-01_ses-session1_task-eyesclosed_run-1_eeg.vmrk: file size mismatch.: 0.00B [00:00, ?B/s]"
      ]
     },
     "metadata": {},
     "output_type": "display_data"
    },
    {
     "data": {
      "application/vnd.jupyter.widget-view+json": {
       "model_id": "73ba77f1679d4d8f9761d59d77df8caf",
       "version_major": 2,
       "version_minor": 0
      },
      "text/plain": [
       "Re-downloading sub-01_ses-session1_task-eyesopen_run-2_eeg.vmrk: file size mismatch.: 0.00B [00:00, ?B/s]"
      ]
     },
     "metadata": {},
     "output_type": "display_data"
    },
    {
     "data": {
      "application/vnd.jupyter.widget-view+json": {
       "model_id": "e2250bdf801d4a828cc04f102da87b1c",
       "version_major": 2,
       "version_minor": 0
      },
      "text/plain": [
       "Re-downloading sub-01_ses-session2_task-eyesclosed_run-1_eeg.vhdr: file size mismatch.: 0.00B [00:00, ?B/s]"
      ]
     },
     "metadata": {},
     "output_type": "display_data"
    },
    {
     "data": {
      "application/vnd.jupyter.widget-view+json": {
       "model_id": "ebe5e35d360443a980745a97fdd32929",
       "version_major": 2,
       "version_minor": 0
      },
      "text/plain": [
       "Re-downloading sub-01_ses-session2_task-eyesclosed_run-1_eeg.vmrk: file size mismatch.: 0.00B [00:00, ?B/s]"
      ]
     },
     "metadata": {},
     "output_type": "display_data"
    },
    {
     "data": {
      "application/vnd.jupyter.widget-view+json": {
       "model_id": "1d0acc6396d341e79cd849d9353424c0",
       "version_major": 2,
       "version_minor": 0
      },
      "text/plain": [
       "Re-downloading sub-01_ses-session1_task-eyesopen_run-2_eeg.eeg: file size mismatch.: 0.00B [00:00, ?B/s]"
      ]
     },
     "metadata": {},
     "output_type": "display_data"
    },
    {
     "data": {
      "application/vnd.jupyter.widget-view+json": {
       "model_id": "dd27e7f53b3b4e2a91f81ae31179f466",
       "version_major": 2,
       "version_minor": 0
      },
      "text/plain": [
       "Re-downloading sub-01_ses-session3_task-eyesclosed_run-1_eeg.vmrk: file size mismatch.: 0.00B [00:00, ?B/s]"
      ]
     },
     "metadata": {},
     "output_type": "display_data"
    },
    {
     "data": {
      "application/vnd.jupyter.widget-view+json": {
       "model_id": "dc1bf64abcd44195980f642d960b043c",
       "version_major": 2,
       "version_minor": 0
      },
      "text/plain": [
       "Re-downloading sub-01_ses-session2_task-eyesclosed_run-1_eeg.eeg: file size mismatch.: 0.00B [00:00, ?B/s]"
      ]
     },
     "metadata": {},
     "output_type": "display_data"
    },
    {
     "data": {
      "application/vnd.jupyter.widget-view+json": {
       "model_id": "f693529a530c4693b139edc384a09205",
       "version_major": 2,
       "version_minor": 0
      },
      "text/plain": [
       "Re-downloading sub-01_ses-session3_task-eyesopen_run-2_eeg.eeg: file size mismatch.: 0.00B [00:00, ?B/s]"
      ]
     },
     "metadata": {},
     "output_type": "display_data"
    },
    {
     "data": {
      "application/vnd.jupyter.widget-view+json": {
       "model_id": "3504a4c3015f4c9e9d16fb28ad507ee4",
       "version_major": 2,
       "version_minor": 0
      },
      "text/plain": [
       "Re-downloading sub-01_ses-session3_task-eyesopen_run-2_eeg.vhdr: file size mismatch.: 0.00B [00:00, ?B/s]"
      ]
     },
     "metadata": {},
     "output_type": "display_data"
    },
    {
     "data": {
      "application/vnd.jupyter.widget-view+json": {
       "model_id": "288b94683f86435182e1456837baae0f",
       "version_major": 2,
       "version_minor": 0
      },
      "text/plain": [
       "Re-downloading sub-01_ses-session1_task-eyesopen_run-2_channels.tsv: file size mismatch.: 0.00B [00:00, ?B/s]"
      ]
     },
     "metadata": {},
     "output_type": "display_data"
    },
    {
     "data": {
      "application/vnd.jupyter.widget-view+json": {
       "model_id": "306874870c1942bab23ec69f5ebb018e",
       "version_major": 2,
       "version_minor": 0
      },
      "text/plain": [
       "Re-downloading sub-01_ses-session1_task-eyesopen_run-2_eeg.json: file size mismatch.: 0.00B [00:00, ?B/s]"
      ]
     },
     "metadata": {},
     "output_type": "display_data"
    },
    {
     "data": {
      "application/vnd.jupyter.widget-view+json": {
       "model_id": "7160feccbc8d48418ed48623ce6a3dc4",
       "version_major": 2,
       "version_minor": 0
      },
      "text/plain": [
       "Re-downloading sub-01_ses-session2_task-eyesopen_run-2_events.tsv: file size mismatch.: 0.00B [00:00, ?B/s]"
      ]
     },
     "metadata": {},
     "output_type": "display_data"
    },
    {
     "data": {
      "application/vnd.jupyter.widget-view+json": {
       "model_id": "9e6f307af6c74816a45d3f4f2a0603ee",
       "version_major": 2,
       "version_minor": 0
      },
      "text/plain": [
       "Re-downloading sub-01_ses-session3_task-eyesopen_run-2_events.tsv: file size mismatch.: 0.00B [00:00, ?B/s]"
      ]
     },
     "metadata": {},
     "output_type": "display_data"
    },
    {
     "data": {
      "application/vnd.jupyter.widget-view+json": {
       "model_id": "149b4f0c527a4260836e1eba53e65dac",
       "version_major": 2,
       "version_minor": 0
      },
      "text/plain": [
       "Re-downloading sub-01_ses-session1_task-eyesclosed_run-1_eeg.vhdr: file size mismatch.: 0.00B [00:00, ?B/s]"
      ]
     },
     "metadata": {},
     "output_type": "display_data"
    },
    {
     "data": {
      "application/vnd.jupyter.widget-view+json": {
       "model_id": "5d68a25059c54b7db28b7efe11a862dd",
       "version_major": 2,
       "version_minor": 0
      },
      "text/plain": [
       "Re-downloading sub-01_ses-session2_task-eyesopen_run-2_eeg.vhdr: file size mismatch.: 0.00B [00:00, ?B/s]"
      ]
     },
     "metadata": {},
     "output_type": "display_data"
    },
    {
     "data": {
      "application/vnd.jupyter.widget-view+json": {
       "model_id": "18c305ec625740b4b890369facca73aa",
       "version_major": 2,
       "version_minor": 0
      },
      "text/plain": [
       "Re-downloading sub-01_ses-session2_task-eyesopen_run-2_eeg.eeg: file size mismatch.: 0.00B [00:00, ?B/s]"
      ]
     },
     "metadata": {},
     "output_type": "display_data"
    },
    {
     "data": {
      "application/vnd.jupyter.widget-view+json": {
       "model_id": "15d80acda12241f784e43684d87a71c4",
       "version_major": 2,
       "version_minor": 0
      },
      "text/plain": [
       "Re-downloading sub-01_ses-session3_task-eyesopen_run-2_eeg.vmrk: file size mismatch.: 0.00B [00:00, ?B/s]"
      ]
     },
     "metadata": {},
     "output_type": "display_data"
    },
    {
     "data": {
      "application/vnd.jupyter.widget-view+json": {
       "model_id": "06dc61e0e3594807a08e9fde7edc37b7",
       "version_major": 2,
       "version_minor": 0
      },
      "text/plain": [
       "Re-downloading sub-01_ses-session3_task-eyesclosed_run-1_eeg.eeg: file size mismatch.: 0.00B [00:00, ?B/s]"
      ]
     },
     "metadata": {},
     "output_type": "display_data"
    },
    {
     "data": {
      "application/vnd.jupyter.widget-view+json": {
       "model_id": "ceabd31e06da4d03970e9b63511c096b",
       "version_major": 2,
       "version_minor": 0
      },
      "text/plain": [
       "Re-downloading sub-01_ses-session2_task-eyesopen_run-2_eeg.json: file size mismatch.: 0.00B [00:00, ?B/s]"
      ]
     },
     "metadata": {},
     "output_type": "display_data"
    },
    {
     "data": {
      "application/vnd.jupyter.widget-view+json": {
       "model_id": "1acf8bbf00f54bd889aeea6d8ec2aa10",
       "version_major": 2,
       "version_minor": 0
      },
      "text/plain": [
       "Skipping sub-01_ses-session1_task-eyesclosed_run-1_events.tsv: already downloaded.: 100%|##########| 6.05k/6.0…"
      ]
     },
     "metadata": {},
     "output_type": "display_data"
    },
    {
     "data": {
      "application/vnd.jupyter.widget-view+json": {
       "model_id": "d62178cab9dd4a48a8de1b9377cdb014",
       "version_major": 2,
       "version_minor": 0
      },
      "text/plain": [
       "Re-downloading sub-01_ses-session1_task-eyesopen_run-2_eeg.vhdr: file size mismatch.: 0.00B [00:00, ?B/s]"
      ]
     },
     "metadata": {},
     "output_type": "display_data"
    },
    {
     "data": {
      "application/vnd.jupyter.widget-view+json": {
       "model_id": "90d3e4bde99346a5af3ce50524f85f6c",
       "version_major": 2,
       "version_minor": 0
      },
      "text/plain": [
       "Re-downloading sub-01_ses-session1_task-eyesclosed_run-1_eeg.json: file size mismatch.: 0.00B [00:00, ?B/s]"
      ]
     },
     "metadata": {},
     "output_type": "display_data"
    },
    {
     "data": {
      "application/vnd.jupyter.widget-view+json": {
       "model_id": "1d5b5b3746d24d2cb882b297d31a5abc",
       "version_major": 2,
       "version_minor": 0
      },
      "text/plain": [
       "Re-downloading sub-01_ses-session1_task-eyesclosed_run-1_eeg.eeg: file size mismatch.: 0.00B [00:00, ?B/s]"
      ]
     },
     "metadata": {},
     "output_type": "display_data"
    },
    {
     "data": {
      "application/vnd.jupyter.widget-view+json": {
       "model_id": "f190b0287da84a0ba197c3538d5a47e0",
       "version_major": 2,
       "version_minor": 0
      },
      "text/plain": [
       "Re-downloading sub-01_ses-session2_task-eyesopen_run-2_channels.tsv: file size mismatch.: 0.00B [00:00, ?B/s]"
      ]
     },
     "metadata": {},
     "output_type": "display_data"
    },
    {
     "data": {
      "application/vnd.jupyter.widget-view+json": {
       "model_id": "bafd46cad7a549ac93e7997700f184b2",
       "version_major": 2,
       "version_minor": 0
      },
      "text/plain": [
       "Re-downloading sub-01_ses-session3_task-eyesclosed_run-1_eeg.vhdr: file size mismatch.: 0.00B [00:00, ?B/s]"
      ]
     },
     "metadata": {},
     "output_type": "display_data"
    },
    {
     "data": {
      "application/vnd.jupyter.widget-view+json": {
       "model_id": "2299fe3f8f684dc9a9a54835b30f181f",
       "version_major": 2,
       "version_minor": 0
      },
      "text/plain": [
       "Re-downloading sub-01_ses-session3_task-eyesopen_run-2_eeg.json: file size mismatch.: 0.00B [00:00, ?B/s]"
      ]
     },
     "metadata": {},
     "output_type": "display_data"
    },
    {
     "data": {
      "application/vnd.jupyter.widget-view+json": {
       "model_id": "f5bc6e334df54861af57f5abc83ca8ce",
       "version_major": 2,
       "version_minor": 0
      },
      "text/plain": [
       "Re-downloading sub-01_ses-session2_task-eyesopen_run-2_eeg.vmrk: file size mismatch.: 0.00B [00:00, ?B/s]"
      ]
     },
     "metadata": {},
     "output_type": "display_data"
    }
   ],
   "source": [
    "dataset = 'ds003685'\n",
    "bids_root = op.join(op.dirname(sample.data_path()), dataset)\n",
    "if not op.isdir(bids_root):\n",
    "    os.makedirs(bids_root)\n",
    "\n",
    "openneuro.download(dataset=dataset, target_dir=bids_root,\n",
    "                   include=['sub-01*eyes*'])"
   ]
  },
  {
   "cell_type": "code",
   "execution_count": 13,
   "metadata": {},
   "outputs": [
    {
     "name": "stdout",
     "output_type": "stream",
     "text": [
      "|ds003685/\n",
      "|--- CHANGES\n",
      "|--- README\n",
      "|--- dataset_description.json\n",
      "|--- participants.tsv\n",
      "|--- sub-01/\n",
      "|------ ses-session1/\n",
      "|--------- eeg/\n",
      "|------------ sub-01_ses-session1_task-eyes closed_run-1_channels.tsv\n",
      "|------------ sub-01_ses-session1_task-eyes closed_run-1_eeg.eeg\n",
      "|------------ sub-01_ses-session1_task-eyes closed_run-1_eeg.json\n",
      "|------------ sub-01_ses-session1_task-eyes closed_run-1_eeg.vhdr\n",
      "|------------ sub-01_ses-session1_task-eyes closed_run-1_eeg.vmrk\n",
      "|------------ sub-01_ses-session1_task-eyes closed_run-1_events.tsv\n",
      "|------------ sub-01_ses-session1_task-eyes open_run-2_channels.tsv\n",
      "|------------ sub-01_ses-session1_task-eyes open_run-2_eeg.eeg\n",
      "|------------ sub-01_ses-session1_task-eyes open_run-2_eeg.json\n",
      "|------------ sub-01_ses-session1_task-eyes open_run-2_eeg.vhdr\n",
      "|------------ sub-01_ses-session1_task-eyes open_run-2_eeg.vmrk\n",
      "|------------ sub-01_ses-session1_task-eyes open_run-2_events.tsv\n",
      "|------ ses-session2/\n",
      "|--------- eeg/\n",
      "|------------ sub-01_ses-session2_task-eyes closed_run-1_channels.tsv\n",
      "|------------ sub-01_ses-session2_task-eyes closed_run-1_eeg.eeg\n",
      "|------------ sub-01_ses-session2_task-eyes closed_run-1_eeg.json\n",
      "|------------ sub-01_ses-session2_task-eyes closed_run-1_eeg.vhdr\n",
      "|------------ sub-01_ses-session2_task-eyes closed_run-1_eeg.vmrk\n",
      "|------------ sub-01_ses-session2_task-eyes closed_run-1_events.tsv\n",
      "|------------ sub-01_ses-session2_task-eyes open_run-2_channels.tsv\n",
      "|------------ sub-01_ses-session2_task-eyes open_run-2_eeg.eeg\n",
      "|------------ sub-01_ses-session2_task-eyes open_run-2_eeg.json\n",
      "|------------ sub-01_ses-session2_task-eyes open_run-2_eeg.vhdr\n",
      "|------------ sub-01_ses-session2_task-eyes open_run-2_eeg.vmrk\n",
      "|------------ sub-01_ses-session2_task-eyes open_run-2_events.tsv\n",
      "|------ ses-session3/\n",
      "|--------- eeg/\n",
      "|------------ sub-01_ses-session3_task-eyes closed_run-1_channels.tsv\n",
      "|------------ sub-01_ses-session3_task-eyes closed_run-1_eeg.eeg\n",
      "|------------ sub-01_ses-session3_task-eyes closed_run-1_eeg.json\n",
      "|------------ sub-01_ses-session3_task-eyes closed_run-1_eeg.vhdr\n",
      "|------------ sub-01_ses-session3_task-eyes closed_run-1_eeg.vmrk\n",
      "|------------ sub-01_ses-session3_task-eyes closed_run-1_events.tsv\n",
      "|------------ sub-01_ses-session3_task-eyes open_run-2_channels.tsv\n",
      "|------------ sub-01_ses-session3_task-eyes open_run-2_eeg.eeg\n",
      "|------------ sub-01_ses-session3_task-eyes open_run-2_eeg.json\n",
      "|------------ sub-01_ses-session3_task-eyes open_run-2_eeg.vhdr\n",
      "|------------ sub-01_ses-session3_task-eyes open_run-2_eeg.vmrk\n",
      "|------------ sub-01_ses-session3_task-eyes open_run-2_events.tsv\n"
     ]
    }
   ],
   "source": [
    "print_dir_tree(bids_root, max_depth=4)"
   ]
  },
  {
   "cell_type": "code",
   "execution_count": 14,
   "metadata": {},
   "outputs": [
    {
     "name": "stdout",
     "output_type": "stream",
     "text": [
      "Summarizing participants.tsv /Users/ben/mne_data/ds003685/participants.tsv...\n",
      "The participant template found: comprised of 28 male and 32 female participants;\n",
      "handedness were all unknown;\n",
      "ages ranged from 18.0 to 28.0 (mean = 20.0, std = 1.89; 5 with unknown age)\n",
      " The A test-retest resting and cognitive state EEG dataset dataset was created\n",
      "by Yulin Wang, Wei Duan, Lihong Ding, Debo Dong, and Xu Lei and conforms to BIDS\n",
      "version 1.2. This report was generated with MNE-BIDS\n",
      "(https://doi.org/10.21105/joss.01896). The dataset consists of 1 participants\n",
      "(comprised of 28 male and 32 female participants; handedness were all unknown;\n",
      "ages ranged from 18.0 to 28.0 (mean = 20.0, std = 1.89; 5 with unknown age)) and\n",
      "3 recording sessions: session1, session2, and session3.\n"
     ]
    },
    {
     "name": "stderr",
     "output_type": "stream",
     "text": [
      "/var/folders/7b/xbwtz8m5467_89kxyf1qm6tw0000gp/T/ipykernel_11838/3390368180.py:1: RuntimeWarning: No *scans.tsv files found. Currently, we do not generate a report without the scans.tsv files.\n",
      "  print(make_report(bids_root))\n"
     ]
    }
   ],
   "source": [
    "print(make_report(bids_root))"
   ]
  },
  {
   "cell_type": "code",
   "execution_count": 15,
   "metadata": {},
   "outputs": [],
   "source": [
    "#fix files missing spaces\n",
    "\n",
    "import re, glob, os\n",
    "\n",
    "def renamer(files, pattern, replacement):\n",
    "    for pathname in glob.glob(files, recursive=True):\n",
    "        new_filename = re.sub(pattern, replacement, pathname)\n",
    "        if new_filename != pathname:\n",
    "            os.rename(\n",
    "              pathname,\n",
    "              os.path.join(os.path.dirname(pathname), new_filename))\n",
    "            print('renamed to {}'.format(os.path.join(os.path.dirname(pathname), new_filename)))\n",
    "\n",
    "renamer('{}/**/*'.format(bids_root), 'eyesopen', 'eyes open')\n",
    "renamer('{}/**/*'.format(bids_root), 'eyesclosed', 'eyes closed')"
   ]
  }
 ],
 "metadata": {
  "interpreter": {
   "hash": "22aeb7c88ad43e7f8d29df71af4839a433785d6a842837b5826dd947146c18d1"
  },
  "kernelspec": {
   "display_name": "Python 3.9.7 ('eeg-notebooks')",
   "language": "python",
   "name": "python3"
  },
  "language_info": {
   "codemirror_mode": {
    "name": "ipython",
    "version": 3
   },
   "file_extension": ".py",
   "mimetype": "text/x-python",
   "name": "python",
   "nbconvert_exporter": "python",
   "pygments_lexer": "ipython3",
   "version": "3.8.8"
  },
  "orig_nbformat": 4
 },
 "nbformat": 4,
 "nbformat_minor": 2
}
